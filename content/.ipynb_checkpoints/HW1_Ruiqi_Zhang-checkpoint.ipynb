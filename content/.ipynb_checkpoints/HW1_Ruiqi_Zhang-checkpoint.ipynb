{
 "cells": [
  {
   "cell_type": "markdown",
   "metadata": {},
   "source": [
    "## Homework 1 - Math Fun\n",
    "\n",
    "#### Ruiqi Zhang"
   ]
  },
  {
   "cell_type": "markdown",
   "metadata": {},
   "source": [
    "#### Blog:  \n",
    "https://ruiqi-zhang063.github.io  \n",
    "\n",
    "#### Github repository\n",
    "https://github.com/ruiqi-zhang063/ruiqi-zhang063.github.io"
   ]
  },
  {
   "cell_type": "markdown",
   "metadata": {},
   "source": [
    "#### Problem 123 - Prime square remainders (solved by 11386 people, I am the 11387th.)\n",
    "\n",
    "Let $p_n$ be the $n$th prime: $2, 3, 5, 7, 11, ...,$ and let $r$ be the remainder when $(p_n−1)^n + (p_n+1)^n$ is divided by $p_n^2$.\n",
    "\n",
    "For example, when $n = 3$, $p_3 = 5$, and $4^3 + 6^3 = 280 ≡ 5$ mod $25$.\n",
    "\n",
    "The least value of $n$ for which the remainder first exceeds $10^9$ is $7037$.\n",
    "\n",
    "Find the least value of $n$ for which the remainder first exceeds $10^{10}$."
   ]
  },
  {
   "cell_type": "markdown",
   "metadata": {},
   "source": [
    "#### Solution \n",
    "\n",
    "In this question, we can first generate a prime list. For any new number, if it cannot be divisible by any prime number smaller than it, then it is also a prime number. \n",
    "\n",
    "Then when we get a new prime, and the index in prime list plus 1 is the n. Then every time we obtain a new prime number, we can use the formula from question to test whether it is the number we want. If it meet the requirement, we can change the value of parameter 'requirement' to stop the while loop.\n",
    "\n",
    "The answer is 21035."
   ]
  },
  {
   "cell_type": "code",
   "execution_count": 245,
   "metadata": {},
   "outputs": [],
   "source": [
    "import numpy as np\n",
    "import time"
   ]
  },
  {
   "cell_type": "code",
   "execution_count": 246,
   "metadata": {},
   "outputs": [],
   "source": [
    "\"\"\"Solution function for problem 123\n",
    "\n",
    "It is used to find the least value of n for which the remainder first exceeds parameter number.\n",
    "\n",
    "\"\"\"\n",
    "\n",
    "def least_value_of_n(number):\n",
    "    \"\"\" Find the least value of n for which the remainder first exceeds number\n",
    "    \n",
    "    Parameter\n",
    "    ----------------------\n",
    "    number : int\n",
    "        The required number that the remainder first exceeds.\n",
    "    prime_list : list\n",
    "        The list increases prime numbers in order\n",
    "    next_number : int\n",
    "        The next number to test\n",
    "    requirement : int\n",
    "        The judgement condition used to stop the loop\n",
    "    is_prime : bool\n",
    "        The judgement condition used to judge whether the number is prime\n",
    "    \n",
    "    Returns \n",
    "    ----------------------\n",
    "    len(prime_list) : int\n",
    "        The least value of n for which the remainder first exceeds number.   \n",
    "    \"\"\"\n",
    "    \n",
    "    prime_list = [2]\n",
    "    next_number = 3\n",
    "    requirement = 1\n",
    "    while requirement:\n",
    "        is_prime  = True\n",
    "        for prime in prime_list:\n",
    "            if next_number % prime == 0:\n",
    "                is_prime = False\n",
    "                break\n",
    "        if is_prime:\n",
    "            prime_list.append(next_number)\n",
    "            n = len(prime_list)\n",
    "            if ((next_number-1)**n + (next_number+1)**n) % next_number**2 > number:\n",
    "                requirement = 0\n",
    "        next_number += 2 \n",
    "    return len(prime_list)"
   ]
  },
  {
   "cell_type": "code",
   "execution_count": 247,
   "metadata": {},
   "outputs": [
    {
     "name": "stdout",
     "output_type": "stream",
     "text": [
      "7037\n",
      "6.859994649887085\n"
     ]
    }
   ],
   "source": [
    "\"\"\"Test our function\n",
    "\n",
    "Use time.time() to record time\n",
    "Need about 7 seconds\n",
    "\n",
    "\"\"\"\n",
    "\n",
    "start_time = time.time()\n",
    "result = least_value_of_n(10**9)\n",
    "end_time = time.time()\n",
    "process_time = end_time - start_time \n",
    "print(result)\n",
    "print(process_time)"
   ]
  },
  {
   "cell_type": "code",
   "execution_count": 248,
   "metadata": {},
   "outputs": [
    {
     "name": "stdout",
     "output_type": "stream",
     "text": [
      "21035\n",
      "124.88217282295227\n"
     ]
    }
   ],
   "source": [
    "\"\"\"Obtain required result\n",
    "\n",
    "Use time.time() to record time\n",
    "Need about 125 seconds\n",
    "\n",
    "\"\"\"\n",
    "\n",
    "start_time = time.time()\n",
    "result = least_value_of_n(10**10)\n",
    "end_time = time.time()\n",
    "process_time = end_time - start_time \n",
    "print(result)\n",
    "print(process_time)"
   ]
  },
  {
   "cell_type": "markdown",
   "metadata": {},
   "source": [
    "#### Problem 125 - Palindromic sums (solved by 13356 people, I am the 13357th.)\n",
    "\n",
    "The palindromic number 595 is interesting because it can be written as the sum of consecutive squares:  $6^2 + 7^2 + 8^2 + 9^2 + 10^2 + 11^2 + 12^2$.\n",
    "\n",
    "\n",
    "There are exactly eleven palindromes below one-thousand that can be written as consecutive square sums, and the sum of these palindromes is $4164$. Note that $1 = 0^2 + 1^2$ has not been included as this problem is concerned with the squares of positive integers.\n",
    "\n",
    "\n",
    "Find the sum of all the numbers less than $10^8$ that are both palindromic and can be written as the sum of consecutive squares."
   ]
  },
  {
   "cell_type": "markdown",
   "metadata": {},
   "source": [
    "#### Solution\n",
    "\n",
    "The largest consecutive number is less than or equal to int(sqrt(number/2))+1 because we need at least two square number. The formula for sum for consecutive squares from 1 to n is n(n+1)(2n+1)/6.\n",
    "Then the formula for sum for consecutive squares from $n_1$ to $n_2$ is $n_2(n_2+1)(2n_2+1)/6-n_1(n_1+1)(2n_1+1)/6$.\n",
    "\n",
    "From the subtraction of two non-adjacent numbers in the sum_square_array, we can find all numbers that can be written as the sum of consecutive squares and then test whether they are palindormic.\n",
    "\n",
    "Some of the number maybe repeated. We can use sum(set()) to remove repeating.\n",
    "\n",
    "The answer is 2906969179."
   ]
  },
  {
   "cell_type": "code",
   "execution_count": 255,
   "metadata": {},
   "outputs": [],
   "source": [
    "\"\"\"Solution function for problem 125\n",
    "\n",
    "It is used to find the sum of all the numbers less than number\n",
    "that are both palindromic and can be written as the sum of consecutive squares\n",
    "\n",
    "\"\"\"\n",
    "\n",
    "import numpy as np\n",
    "\n",
    "def sum_palindromes(number):\n",
    "    \"\"\" Find the sum of all the required palindromic less than number \n",
    "    \n",
    "    Parameter\n",
    "    ----------------------\n",
    "    number : int\n",
    "        The required number that palindromic should be less than.\n",
    "    result_list : list\n",
    "        Used to append required palindromic\n",
    "    n_array : np.array\n",
    "        Used to generate the first n sum of squares sequence\n",
    "    sum_square_array : np.array\n",
    "        The first n sum of squares sequence\n",
    "    test_number : int\n",
    "        Sum of consecutive squares\n",
    "    reqirement : bool\n",
    "        Used to test whether test_number is palindromic number\n",
    "    \n",
    "    Returns \n",
    "    ----------------------\n",
    "    result : int\n",
    "        sum of all the required palindromic less than number   \n",
    "    \"\"\"\n",
    "    \n",
    "    result_list = []\n",
    "    n_array = np.array(range(int(np.sqrt(number/2))+2))    \n",
    "    sum_square_array = n_array * (n_array+1) * (2*n_array+1) / 6\n",
    "    \n",
    "    for i, sum_square1 in enumerate(sum_square_array[:-2]):\n",
    "        for sum_square2 in sum_square_array[i+2:]:\n",
    "            test_number = sum_square2 - sum_square1\n",
    "            if test_number < number+1:\n",
    "                num_str = str(int(test_number))\n",
    "                requirement = True\n",
    "                for l in range(int(len(num_str)/2)):\n",
    "                    if num_str[l] != num_str[-1-l]:\n",
    "                        requirement = False\n",
    "                        break\n",
    "                if requirement == True:\n",
    "                    result_list.append(test_number)\n",
    "    \n",
    "    result = sum(set(result_list))\n",
    "    return result"
   ]
  },
  {
   "cell_type": "code",
   "execution_count": 256,
   "metadata": {},
   "outputs": [
    {
     "data": {
      "text/plain": [
       "4164.0"
      ]
     },
     "execution_count": 256,
     "metadata": {},
     "output_type": "execute_result"
    }
   ],
   "source": [
    "\"\"\"Use 1000 to test our function\n",
    "\n",
    "the result is the same as the answer that question gives\n",
    "\n",
    "\"\"\"\n",
    "sum_palindromes(1000)"
   ]
  },
  {
   "cell_type": "code",
   "execution_count": 251,
   "metadata": {},
   "outputs": [
    {
     "name": "stdout",
     "output_type": "stream",
     "text": [
      "2906969179.0\n",
      "10.738654136657715\n"
     ]
    }
   ],
   "source": [
    "\"\"\"Obtain required result\n",
    "\n",
    "Use time.time() to record time\n",
    "Need about 10 seconds\n",
    "\n",
    "\"\"\"\n",
    "\n",
    "start_time = time.time()\n",
    "result = sum_palindromes(10**8)\n",
    "end_time = time.time()\n",
    "process_time = end_time - start_time \n",
    "print(result)\n",
    "print(process_time)"
   ]
  },
  {
   "cell_type": "markdown",
   "metadata": {},
   "source": [
    "#### Proble 347 - Largest integer divisible by two primes (solved by 4402, I am the 4403th.)\n",
    "\n",
    "The largest integer ≤ 100 that is only divisible by both the primes 2 and 3 is 96, as $96=32*3=2^5*3$. For two distinct primes p and q let M(p,q,N) be the largest positive integer ≤N only divisible by both p and q and M(p,q,N)=0 if such a positive integer does not exist.\n",
    "\n",
    "E.g. M(2,3,100)=96.\n",
    "M(3,5,100)=75 and not 90 because 90 is divisible by 2 ,3 and 5.\n",
    "Also M(2,73,100)=0 because there does not exist a positive integer ≤ 100 that is divisible by both 2 and 73.\n",
    "\n",
    "Let S(N) be the sum of all distinct M(p,q,N). S(100)=2262.\n",
    "\n",
    "Find S(10 000 000).\n"
   ]
  },
  {
   "cell_type": "markdown",
   "metadata": {},
   "source": [
    "#### Solution\n",
    "\n",
    "In this question, we can also first generate a prime list. For any new number, if it cannot be divisible by any prime number smaller than it, then it is also a prime number. In fact, we only need to test the prime number smaller sqrt of this new number.\n",
    "\n",
    "Then for any two different primes p and q, if their product is smaller than required N, then M(p,q,N) will be larger than 0. Suppose q is the larger prime, and $q^{n_2}<N, q^{n_2+1}>N$, then we decrease $n_2$ in turn, and find $n_1$ that is not 0 and make $q^{n_2}p^{n_1}<N, q^{n_2}p^{n_1+1}>N$. In this processing, temp will be replaced by the largest  $q^{n_2}p^{n_1}$. Then the final temp will be the M(p,q,N). Sum all the M(p,q,N) and we get the result.\n",
    "\n",
    "The answer is 11109800204052."
   ]
  },
  {
   "cell_type": "code",
   "execution_count": 252,
   "metadata": {},
   "outputs": [],
   "source": [
    "\"\"\"Solution function for problem 347\n",
    "\n",
    "It is used to find the sum of all distinct M(p,q,N)\n",
    "\n",
    "\"\"\"\n",
    "\n",
    "import numpy as np\n",
    "\n",
    "def sum_largest_integer(number):\n",
    "    \"\"\" Find the sum of all distinct M(p,q,N)\n",
    "    \n",
    "    Parameter\n",
    "    ----------------------\n",
    "    number : int\n",
    "        The required number N for S(N).\n",
    "    prime_list : list\n",
    "        The list increases prime numbers in order\n",
    "    is_prime : bool\n",
    "        The judgement condition used to judge whether the number is prime\n",
    "    upper : float\n",
    "        The largest possible prime value\n",
    "    temp : int\n",
    "        temporary value for largest integer\n",
    "    \n",
    "    \n",
    "    Returns \n",
    "    ----------------------\n",
    "    result : int\n",
    "        sum of all distinct M(p,q,N)   \n",
    "    \"\"\"\n",
    "    prime_list = [2]\n",
    "    for test_prime in range(3,int(number/2)+1,2):\n",
    "        is_prime = True\n",
    "        upper = np.sqrt(test_prime)\n",
    "        for prime in prime_list:\n",
    "            if prime > upper:\n",
    "                break\n",
    "            if test_prime % prime == 0:\n",
    "                is_prime = False\n",
    "                break\n",
    "        if is_prime:\n",
    "            prime_list.append(test_prime)\n",
    "            \n",
    "    result = 0\n",
    "    for i, prime1 in enumerate(prime_list):\n",
    "        for prime2 in prime_list[i+1:]:\n",
    "            if prime1 * prime2 > number:\n",
    "                break\n",
    "            temp = 0\n",
    "            n2 = 1\n",
    "            while prime2**n2 < number+1:\n",
    "                n2 += 1\n",
    "            n2 -= 1        \n",
    "            for i in range(n2,0,-1):\n",
    "                j = 1\n",
    "                while prime2**i*prime1**j < number+1:\n",
    "                    j += 1\n",
    "                j -= 1\n",
    "                if j > 0 and temp < prime2**i*prime1**j:\n",
    "                    temp = prime2**i*prime1**j\n",
    "            result += temp\n",
    "    return result"
   ]
  },
  {
   "cell_type": "code",
   "execution_count": 253,
   "metadata": {},
   "outputs": [
    {
     "data": {
      "text/plain": [
       "2262"
      ]
     },
     "execution_count": 253,
     "metadata": {},
     "output_type": "execute_result"
    }
   ],
   "source": [
    "\"\"\"Use 100 to test our function\n",
    "\n",
    "the result is the same as the answer that question gives\n",
    "\n",
    "\"\"\"\n",
    "result = sum_largest_integer(100)\n",
    "result"
   ]
  },
  {
   "cell_type": "code",
   "execution_count": 254,
   "metadata": {},
   "outputs": [
    {
     "name": "stdout",
     "output_type": "stream",
     "text": [
      "11109800204052\n",
      "266.6260344982147\n"
     ]
    }
   ],
   "source": [
    "\"\"\"Obtain required result\n",
    "\n",
    "Use time.time() to record time\n",
    "Need about 266 seconds\n",
    "\n",
    "\"\"\"\n",
    "\n",
    "start_time = time.time()\n",
    "result = sum_largest_integer(10**7)\n",
    "end_time = time.time()\n",
    "process_time = end_time - start_time \n",
    "print(result)\n",
    "print(process_time)"
   ]
  }
 ],
 "metadata": {
  "kernelspec": {
   "display_name": "Python 3",
   "language": "python",
   "name": "python3"
  },
  "language_info": {
   "codemirror_mode": {
    "name": "ipython",
    "version": 3
   },
   "file_extension": ".py",
   "mimetype": "text/x-python",
   "name": "python",
   "nbconvert_exporter": "python",
   "pygments_lexer": "ipython3",
   "version": "3.8.3"
  }
 },
 "nbformat": 4,
 "nbformat_minor": 4
}
