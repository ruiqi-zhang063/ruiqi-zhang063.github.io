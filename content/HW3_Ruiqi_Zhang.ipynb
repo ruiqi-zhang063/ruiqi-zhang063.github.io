{
 "cells": [
  {
   "cell_type": "markdown",
   "metadata": {},
   "source": [
    "## Homework 3 - Creating effective visualizations using best practices\n",
    "\n",
    "#### Ruiqi Zhang"
   ]
  },
  {
   "cell_type": "markdown",
   "metadata": {},
   "source": [
    "#### Blog:  \n",
    "https://ruiqi-zhang063.github.io  \n",
    "\n",
    "#### Github repository\n",
    "https://github.com/ruiqi-zhang063/ruiqi-zhang063.github.io"
   ]
  },
  {
   "cell_type": "markdown",
   "metadata": {},
   "source": [
    "### Install Package"
   ]
  },
  {
   "cell_type": "code",
   "execution_count": 1,
   "metadata": {},
   "outputs": [],
   "source": [
    "# ! pip install altair"
   ]
  },
  {
   "cell_type": "markdown",
   "metadata": {},
   "source": [
    "### Import Packages"
   ]
  },
  {
   "cell_type": "code",
   "execution_count": 2,
   "metadata": {},
   "outputs": [
    {
     "data": {
      "text/plain": [
       "DataTransformerRegistry.enable('default')"
      ]
     },
     "execution_count": 2,
     "metadata": {},
     "output_type": "execute_result"
    }
   ],
   "source": [
    "import pandas as pd\n",
    "import altair as alt\n",
    "alt.data_transformers.disable_max_rows()"
   ]
  },
  {
   "cell_type": "markdown",
   "metadata": {},
   "source": [
    "### Load Data"
   ]
  },
  {
   "cell_type": "code",
   "execution_count": 3,
   "metadata": {},
   "outputs": [],
   "source": [
    "url_1= 'https://raw.githubusercontent.com/rfordatascience/tidytuesday/master/data/2018/2018-11-13/malaria_deaths.csv'\n",
    "malaria_deaths = pd.read_csv(url_1)\n",
    "url_2= 'https://raw.githubusercontent.com/rfordatascience/tidytuesday/master/data/2018/2018-11-13/malaria_deaths_age.csv'\n",
    "malaria_deaths_age = pd.read_csv(url_2)\n",
    "url_3= 'https://raw.githubusercontent.com/rfordatascience/tidytuesday/master/data/2018/2018-11-13/malaria_inc.csv'\n",
    "malaria_inc = pd.read_csv(url_3)"
   ]
  },
  {
   "cell_type": "markdown",
   "metadata": {},
   "source": [
    "### Look at the first 5 rows of the data"
   ]
  },
  {
   "cell_type": "code",
   "execution_count": 4,
   "metadata": {},
   "outputs": [
    {
     "data": {
      "text/html": [
       "<div>\n",
       "<style scoped>\n",
       "    .dataframe tbody tr th:only-of-type {\n",
       "        vertical-align: middle;\n",
       "    }\n",
       "\n",
       "    .dataframe tbody tr th {\n",
       "        vertical-align: top;\n",
       "    }\n",
       "\n",
       "    .dataframe thead th {\n",
       "        text-align: right;\n",
       "    }\n",
       "</style>\n",
       "<table border=\"1\" class=\"dataframe\">\n",
       "  <thead>\n",
       "    <tr style=\"text-align: right;\">\n",
       "      <th></th>\n",
       "      <th>Entity</th>\n",
       "      <th>Code</th>\n",
       "      <th>Year</th>\n",
       "      <th>Deaths - Malaria - Sex: Both - Age: Age-standardized (Rate) (per 100,000 people)</th>\n",
       "    </tr>\n",
       "  </thead>\n",
       "  <tbody>\n",
       "    <tr>\n",
       "      <th>0</th>\n",
       "      <td>Afghanistan</td>\n",
       "      <td>AFG</td>\n",
       "      <td>1990</td>\n",
       "      <td>6.802930</td>\n",
       "    </tr>\n",
       "    <tr>\n",
       "      <th>1</th>\n",
       "      <td>Afghanistan</td>\n",
       "      <td>AFG</td>\n",
       "      <td>1991</td>\n",
       "      <td>6.973494</td>\n",
       "    </tr>\n",
       "    <tr>\n",
       "      <th>2</th>\n",
       "      <td>Afghanistan</td>\n",
       "      <td>AFG</td>\n",
       "      <td>1992</td>\n",
       "      <td>6.989882</td>\n",
       "    </tr>\n",
       "    <tr>\n",
       "      <th>3</th>\n",
       "      <td>Afghanistan</td>\n",
       "      <td>AFG</td>\n",
       "      <td>1993</td>\n",
       "      <td>7.088983</td>\n",
       "    </tr>\n",
       "    <tr>\n",
       "      <th>4</th>\n",
       "      <td>Afghanistan</td>\n",
       "      <td>AFG</td>\n",
       "      <td>1994</td>\n",
       "      <td>7.392472</td>\n",
       "    </tr>\n",
       "  </tbody>\n",
       "</table>\n",
       "</div>"
      ],
      "text/plain": [
       "        Entity Code  Year  \\\n",
       "0  Afghanistan  AFG  1990   \n",
       "1  Afghanistan  AFG  1991   \n",
       "2  Afghanistan  AFG  1992   \n",
       "3  Afghanistan  AFG  1993   \n",
       "4  Afghanistan  AFG  1994   \n",
       "\n",
       "   Deaths - Malaria - Sex: Both - Age: Age-standardized (Rate) (per 100,000 people)  \n",
       "0                                           6.802930                                 \n",
       "1                                           6.973494                                 \n",
       "2                                           6.989882                                 \n",
       "3                                           7.088983                                 \n",
       "4                                           7.392472                                 "
      ]
     },
     "execution_count": 4,
     "metadata": {},
     "output_type": "execute_result"
    }
   ],
   "source": [
    "malaria_deaths.head()"
   ]
  },
  {
   "cell_type": "code",
   "execution_count": 5,
   "metadata": {},
   "outputs": [
    {
     "data": {
      "text/html": [
       "<div>\n",
       "<style scoped>\n",
       "    .dataframe tbody tr th:only-of-type {\n",
       "        vertical-align: middle;\n",
       "    }\n",
       "\n",
       "    .dataframe tbody tr th {\n",
       "        vertical-align: top;\n",
       "    }\n",
       "\n",
       "    .dataframe thead th {\n",
       "        text-align: right;\n",
       "    }\n",
       "</style>\n",
       "<table border=\"1\" class=\"dataframe\">\n",
       "  <thead>\n",
       "    <tr style=\"text-align: right;\">\n",
       "      <th></th>\n",
       "      <th>Entity</th>\n",
       "      <th>Code</th>\n",
       "      <th>Year</th>\n",
       "      <th>Incidence of malaria (per 1,000 population at risk) (per 1,000 population at risk)</th>\n",
       "    </tr>\n",
       "  </thead>\n",
       "  <tbody>\n",
       "    <tr>\n",
       "      <th>0</th>\n",
       "      <td>Afghanistan</td>\n",
       "      <td>AFG</td>\n",
       "      <td>2000</td>\n",
       "      <td>107.100000</td>\n",
       "    </tr>\n",
       "    <tr>\n",
       "      <th>1</th>\n",
       "      <td>Afghanistan</td>\n",
       "      <td>AFG</td>\n",
       "      <td>2005</td>\n",
       "      <td>46.500000</td>\n",
       "    </tr>\n",
       "    <tr>\n",
       "      <th>2</th>\n",
       "      <td>Afghanistan</td>\n",
       "      <td>AFG</td>\n",
       "      <td>2010</td>\n",
       "      <td>23.900000</td>\n",
       "    </tr>\n",
       "    <tr>\n",
       "      <th>3</th>\n",
       "      <td>Afghanistan</td>\n",
       "      <td>AFG</td>\n",
       "      <td>2015</td>\n",
       "      <td>23.600000</td>\n",
       "    </tr>\n",
       "    <tr>\n",
       "      <th>4</th>\n",
       "      <td>Algeria</td>\n",
       "      <td>DZA</td>\n",
       "      <td>2000</td>\n",
       "      <td>0.037746</td>\n",
       "    </tr>\n",
       "  </tbody>\n",
       "</table>\n",
       "</div>"
      ],
      "text/plain": [
       "        Entity Code  Year  \\\n",
       "0  Afghanistan  AFG  2000   \n",
       "1  Afghanistan  AFG  2005   \n",
       "2  Afghanistan  AFG  2010   \n",
       "3  Afghanistan  AFG  2015   \n",
       "4      Algeria  DZA  2000   \n",
       "\n",
       "   Incidence of malaria (per 1,000 population at risk) (per 1,000 population at risk)  \n",
       "0                                         107.100000                                   \n",
       "1                                          46.500000                                   \n",
       "2                                          23.900000                                   \n",
       "3                                          23.600000                                   \n",
       "4                                           0.037746                                   "
      ]
     },
     "execution_count": 5,
     "metadata": {},
     "output_type": "execute_result"
    }
   ],
   "source": [
    "malaria_inc.head()"
   ]
  },
  {
   "cell_type": "code",
   "execution_count": 6,
   "metadata": {},
   "outputs": [
    {
     "data": {
      "text/html": [
       "<div>\n",
       "<style scoped>\n",
       "    .dataframe tbody tr th:only-of-type {\n",
       "        vertical-align: middle;\n",
       "    }\n",
       "\n",
       "    .dataframe tbody tr th {\n",
       "        vertical-align: top;\n",
       "    }\n",
       "\n",
       "    .dataframe thead th {\n",
       "        text-align: right;\n",
       "    }\n",
       "</style>\n",
       "<table border=\"1\" class=\"dataframe\">\n",
       "  <thead>\n",
       "    <tr style=\"text-align: right;\">\n",
       "      <th></th>\n",
       "      <th>Unnamed: 0</th>\n",
       "      <th>entity</th>\n",
       "      <th>code</th>\n",
       "      <th>year</th>\n",
       "      <th>age_group</th>\n",
       "      <th>deaths</th>\n",
       "    </tr>\n",
       "  </thead>\n",
       "  <tbody>\n",
       "    <tr>\n",
       "      <th>0</th>\n",
       "      <td>1</td>\n",
       "      <td>Afghanistan</td>\n",
       "      <td>AFG</td>\n",
       "      <td>1990</td>\n",
       "      <td>Under 5</td>\n",
       "      <td>184.606435</td>\n",
       "    </tr>\n",
       "    <tr>\n",
       "      <th>1</th>\n",
       "      <td>2</td>\n",
       "      <td>Afghanistan</td>\n",
       "      <td>AFG</td>\n",
       "      <td>1991</td>\n",
       "      <td>Under 5</td>\n",
       "      <td>191.658193</td>\n",
       "    </tr>\n",
       "    <tr>\n",
       "      <th>2</th>\n",
       "      <td>3</td>\n",
       "      <td>Afghanistan</td>\n",
       "      <td>AFG</td>\n",
       "      <td>1992</td>\n",
       "      <td>Under 5</td>\n",
       "      <td>197.140197</td>\n",
       "    </tr>\n",
       "    <tr>\n",
       "      <th>3</th>\n",
       "      <td>4</td>\n",
       "      <td>Afghanistan</td>\n",
       "      <td>AFG</td>\n",
       "      <td>1993</td>\n",
       "      <td>Under 5</td>\n",
       "      <td>207.357753</td>\n",
       "    </tr>\n",
       "    <tr>\n",
       "      <th>4</th>\n",
       "      <td>5</td>\n",
       "      <td>Afghanistan</td>\n",
       "      <td>AFG</td>\n",
       "      <td>1994</td>\n",
       "      <td>Under 5</td>\n",
       "      <td>226.209363</td>\n",
       "    </tr>\n",
       "  </tbody>\n",
       "</table>\n",
       "</div>"
      ],
      "text/plain": [
       "   Unnamed: 0       entity code  year age_group      deaths\n",
       "0           1  Afghanistan  AFG  1990   Under 5  184.606435\n",
       "1           2  Afghanistan  AFG  1991   Under 5  191.658193\n",
       "2           3  Afghanistan  AFG  1992   Under 5  197.140197\n",
       "3           4  Afghanistan  AFG  1993   Under 5  207.357753\n",
       "4           5  Afghanistan  AFG  1994   Under 5  226.209363"
      ]
     },
     "execution_count": 6,
     "metadata": {},
     "output_type": "execute_result"
    }
   ],
   "source": [
    "malaria_deaths_age.head()"
   ]
  },
  {
   "cell_type": "markdown",
   "metadata": {},
   "source": [
    "### Rename columns"
   ]
  },
  {
   "cell_type": "code",
   "execution_count": 7,
   "metadata": {},
   "outputs": [],
   "source": [
    "malaria_deaths = malaria_deaths.rename(columns = {\n",
    "    'Deaths - Malaria - Sex: Both - Age: Age-standardized (Rate) (per 100,000 people)':'Deaths (per 100,000 people)'\n",
    "})\n",
    "malaria_inc = malaria_inc.rename(columns = {\n",
    "    'Incidence of malaria (per 1,000 population at risk) (per 1,000 population at risk)':'Incidence (per 1,000 population at risk)'\n",
    "})"
   ]
  },
  {
   "cell_type": "markdown",
   "metadata": {},
   "source": [
    "### The first visualization\n",
    "\n",
    "The first visualization is used to compare different counties malaria deaths or malaria incidence. The first parameter is a list of country name, representing the countries we want to compare. The second parameter is a string, inputing 'Deaths' means that we want to compare malaria deaths, while inpunting 'Incidence' means that we want to compare incidence.\n",
    "\n",
    "The visualization has interactive behavior tied to the x position of the cursor. When the cursor is moved over, the most recent value will be displayed."
   ]
  },
  {
   "cell_type": "code",
   "execution_count": 8,
   "metadata": {},
   "outputs": [],
   "source": [
    "def Country_Compare(country_list, compare_label):\n",
    "    '''\n",
    "    Compare different counties malaria deaths or malaria incidence.\n",
    "    \n",
    "    Parameter\n",
    "    ---------\n",
    "    country_list: list\n",
    "        The list of countries name that we want to compare.\n",
    "    compare_label: str\n",
    "        The data we want to compare, must be either 'Deaths' or 'Incidence'.\n",
    "        \n",
    "    Result \n",
    "    ---------\n",
    "    figure: visualization\n",
    "        The line chart with interactive behavior tied to the x position of the cursor.\n",
    "    '''\n",
    "    \n",
    "    if compare_label == 'Deaths':\n",
    "        data = malaria_deaths[malaria_deaths['Entity'].isin(country_list)]\n",
    "        label = 'Deaths (per 100,000 people)'\n",
    "    elif compare_label == 'Incidence':\n",
    "        data = malaria_inc[malaria_inc['Entity'].isin(country_list)]\n",
    "        label = 'Incidence (per 1,000 population at risk)'\n",
    "    else:\n",
    "        return 'Compare_label is not correct, it should be either \"Deaths\" or \"Incidence\"'\n",
    "    \n",
    "    if data.empty:\n",
    "        return 'No data for the corresponding country'\n",
    "    \n",
    "    nearest = alt.selection(type='single', nearest=True, on='mouseover',\n",
    "                            fields=['Year'], empty='none')\n",
    "    \n",
    "    line = alt.Chart(data).mark_line().encode(\n",
    "        x = 'Year', \n",
    "        y = label, \n",
    "        color = 'Entity',\n",
    "    )\n",
    "    \n",
    "    selectors = alt.Chart(data).mark_point().encode(\n",
    "    x = 'Year:Q',\n",
    "    opacity = alt.value(0),\n",
    "    ).add_selection(\n",
    "    nearest\n",
    "    )\n",
    "    \n",
    "    points = line.mark_point().encode(\n",
    "        opacity=alt.condition(nearest, alt.value(1), alt.value(0))\n",
    "    )\n",
    "    \n",
    "    text = line.mark_text(align='left', dx=5, dy=-5).encode(\n",
    "        text=alt.condition(nearest, label, alt.value(' '))\n",
    "    )\n",
    "    \n",
    "    rules = alt.Chart(data).mark_rule(color='gray').encode(\n",
    "        x='Year:Q',\n",
    "    ).transform_filter(\n",
    "        nearest\n",
    "    )\n",
    "    \n",
    "    figure = alt.layer(\n",
    "        line, selectors, points, rules, text\n",
    "    )\n",
    "    \n",
    "    return figure"
   ]
  },
  {
   "cell_type": "markdown",
   "metadata": {},
   "source": [
    "### Example of the first visualization"
   ]
  },
  {
   "cell_type": "code",
   "execution_count": 9,
   "metadata": {},
   "outputs": [
    {
     "data": {
      "text/html": [
       "\n",
       "<div id=\"altair-viz-2accf01c44d24ef5a6b2b510d653ad70\"></div>\n",
       "<script type=\"text/javascript\">\n",
       "  (function(spec, embedOpt){\n",
       "    let outputDiv = document.currentScript.previousElementSibling;\n",
       "    if (outputDiv.id !== \"altair-viz-2accf01c44d24ef5a6b2b510d653ad70\") {\n",
       "      outputDiv = document.getElementById(\"altair-viz-2accf01c44d24ef5a6b2b510d653ad70\");\n",
       "    }\n",
       "    const paths = {\n",
       "      \"vega\": \"https://cdn.jsdelivr.net/npm//vega@5?noext\",\n",
       "      \"vega-lib\": \"https://cdn.jsdelivr.net/npm//vega-lib?noext\",\n",
       "      \"vega-lite\": \"https://cdn.jsdelivr.net/npm//vega-lite@4.8.1?noext\",\n",
       "      \"vega-embed\": \"https://cdn.jsdelivr.net/npm//vega-embed@6?noext\",\n",
       "    };\n",
       "\n",
       "    function loadScript(lib) {\n",
       "      return new Promise(function(resolve, reject) {\n",
       "        var s = document.createElement('script');\n",
       "        s.src = paths[lib];\n",
       "        s.async = true;\n",
       "        s.onload = () => resolve(paths[lib]);\n",
       "        s.onerror = () => reject(`Error loading script: ${paths[lib]}`);\n",
       "        document.getElementsByTagName(\"head\")[0].appendChild(s);\n",
       "      });\n",
       "    }\n",
       "\n",
       "    function showError(err) {\n",
       "      outputDiv.innerHTML = `<div class=\"error\" style=\"color:red;\">${err}</div>`;\n",
       "      throw err;\n",
       "    }\n",
       "\n",
       "    function displayChart(vegaEmbed) {\n",
       "      vegaEmbed(outputDiv, spec, embedOpt)\n",
       "        .catch(err => showError(`Javascript Error: ${err.message}<br>This usually means there's a typo in your chart specification. See the javascript console for the full traceback.`));\n",
       "    }\n",
       "\n",
       "    if(typeof define === \"function\" && define.amd) {\n",
       "      requirejs.config({paths});\n",
       "      require([\"vega-embed\"], displayChart, err => showError(`Error loading script: ${err.message}`));\n",
       "    } else if (typeof vegaEmbed === \"function\") {\n",
       "      displayChart(vegaEmbed);\n",
       "    } else {\n",
       "      loadScript(\"vega\")\n",
       "        .then(() => loadScript(\"vega-lite\"))\n",
       "        .then(() => loadScript(\"vega-embed\"))\n",
       "        .catch(showError)\n",
       "        .then(() => displayChart(vegaEmbed));\n",
       "    }\n",
       "  })({\"config\": {\"view\": {\"continuousWidth\": 400, \"continuousHeight\": 300}}, \"layer\": [{\"mark\": \"line\", \"encoding\": {\"color\": {\"type\": \"nominal\", \"field\": \"Entity\"}, \"x\": {\"type\": \"quantitative\", \"field\": \"Year\"}, \"y\": {\"type\": \"quantitative\", \"field\": \"Deaths (per 100,000 people)\"}}}, {\"mark\": \"point\", \"encoding\": {\"opacity\": {\"value\": 0}, \"x\": {\"type\": \"quantitative\", \"field\": \"Year\"}}, \"selection\": {\"selector001\": {\"type\": \"single\", \"nearest\": true, \"on\": \"mouseover\", \"fields\": [\"Year\"], \"empty\": \"none\"}}}, {\"mark\": \"point\", \"encoding\": {\"color\": {\"type\": \"nominal\", \"field\": \"Entity\"}, \"opacity\": {\"condition\": {\"value\": 1, \"selection\": \"selector001\"}, \"value\": 0}, \"x\": {\"type\": \"quantitative\", \"field\": \"Year\"}, \"y\": {\"type\": \"quantitative\", \"field\": \"Deaths (per 100,000 people)\"}}}, {\"mark\": {\"type\": \"rule\", \"color\": \"gray\"}, \"encoding\": {\"x\": {\"type\": \"quantitative\", \"field\": \"Year\"}}, \"transform\": [{\"filter\": {\"selection\": \"selector001\"}}]}, {\"mark\": {\"type\": \"text\", \"align\": \"left\", \"dx\": 5, \"dy\": -5}, \"encoding\": {\"color\": {\"type\": \"nominal\", \"field\": \"Entity\"}, \"text\": {\"condition\": {\"type\": \"quantitative\", \"field\": \"Deaths (per 100,000 people)\", \"selection\": \"selector001\"}, \"value\": \" \"}, \"x\": {\"type\": \"quantitative\", \"field\": \"Year\"}, \"y\": {\"type\": \"quantitative\", \"field\": \"Deaths (per 100,000 people)\"}}}], \"data\": {\"name\": \"data-8e232cb46307c6c2c5b53cd6d337982d\"}, \"$schema\": \"https://vega.github.io/schema/vega-lite/v4.8.1.json\", \"datasets\": {\"data-8e232cb46307c6c2c5b53cd6d337982d\": [{\"Entity\": \"Afghanistan\", \"Code\": \"AFG\", \"Year\": 1990, \"Deaths (per 100,000 people)\": 6.80293003775}, {\"Entity\": \"Afghanistan\", \"Code\": \"AFG\", \"Year\": 1991, \"Deaths (per 100,000 people)\": 6.97349405696}, {\"Entity\": \"Afghanistan\", \"Code\": \"AFG\", \"Year\": 1992, \"Deaths (per 100,000 people)\": 6.98988163679}, {\"Entity\": \"Afghanistan\", \"Code\": \"AFG\", \"Year\": 1993, \"Deaths (per 100,000 people)\": 7.0889829234}, {\"Entity\": \"Afghanistan\", \"Code\": \"AFG\", \"Year\": 1994, \"Deaths (per 100,000 people)\": 7.39247200965}, {\"Entity\": \"Afghanistan\", \"Code\": \"AFG\", \"Year\": 1995, \"Deaths (per 100,000 people)\": 7.40551138776}, {\"Entity\": \"Afghanistan\", \"Code\": \"AFG\", \"Year\": 1996, \"Deaths (per 100,000 people)\": 7.6267734406}, {\"Entity\": \"Afghanistan\", \"Code\": \"AFG\", \"Year\": 1997, \"Deaths (per 100,000 people)\": 7.592172002489999}, {\"Entity\": \"Afghanistan\", \"Code\": \"AFG\", \"Year\": 1998, \"Deaths (per 100,000 people)\": 7.79601413294}, {\"Entity\": \"Afghanistan\", \"Code\": \"AFG\", \"Year\": 1999, \"Deaths (per 100,000 people)\": 7.80059216773}, {\"Entity\": \"Afghanistan\", \"Code\": \"AFG\", \"Year\": 2000, \"Deaths (per 100,000 people)\": 7.939949100360001}, {\"Entity\": \"Afghanistan\", \"Code\": \"AFG\", \"Year\": 2001, \"Deaths (per 100,000 people)\": 8.05494038795}, {\"Entity\": \"Afghanistan\", \"Code\": \"AFG\", \"Year\": 2002, \"Deaths (per 100,000 people)\": 8.57779174894}, {\"Entity\": \"Afghanistan\", \"Code\": \"AFG\", \"Year\": 2003, \"Deaths (per 100,000 people)\": 9.01248935473}, {\"Entity\": \"Afghanistan\", \"Code\": \"AFG\", \"Year\": 2004, \"Deaths (per 100,000 people)\": 8.66658495836}, {\"Entity\": \"Afghanistan\", \"Code\": \"AFG\", \"Year\": 2005, \"Deaths (per 100,000 people)\": 8.55104232466}, {\"Entity\": \"Afghanistan\", \"Code\": \"AFG\", \"Year\": 2006, \"Deaths (per 100,000 people)\": 8.459951791169999}, {\"Entity\": \"Afghanistan\", \"Code\": \"AFG\", \"Year\": 2007, \"Deaths (per 100,000 people)\": 8.266377986470001}, {\"Entity\": \"Afghanistan\", \"Code\": \"AFG\", \"Year\": 2008, \"Deaths (per 100,000 people)\": 8.07789997471}, {\"Entity\": \"Afghanistan\", \"Code\": \"AFG\", \"Year\": 2009, \"Deaths (per 100,000 people)\": 7.817881683099999}, {\"Entity\": \"Afghanistan\", \"Code\": \"AFG\", \"Year\": 2010, \"Deaths (per 100,000 people)\": 7.27124898112}, {\"Entity\": \"Afghanistan\", \"Code\": \"AFG\", \"Year\": 2011, \"Deaths (per 100,000 people)\": 6.82662928825}, {\"Entity\": \"Afghanistan\", \"Code\": \"AFG\", \"Year\": 2012, \"Deaths (per 100,000 people)\": 6.61142463357}, {\"Entity\": \"Afghanistan\", \"Code\": \"AFG\", \"Year\": 2013, \"Deaths (per 100,000 people)\": 7.1446281048}, {\"Entity\": \"Afghanistan\", \"Code\": \"AFG\", \"Year\": 2014, \"Deaths (per 100,000 people)\": 7.1378352485}, {\"Entity\": \"Afghanistan\", \"Code\": \"AFG\", \"Year\": 2015, \"Deaths (per 100,000 people)\": 7.19228299167}, {\"Entity\": \"Afghanistan\", \"Code\": \"AFG\", \"Year\": 2016, \"Deaths (per 100,000 people)\": 7.1394291368100005}, {\"Entity\": \"Algeria\", \"Code\": \"DZA\", \"Year\": 1990, \"Deaths (per 100,000 people)\": 0.0271297723085}, {\"Entity\": \"Algeria\", \"Code\": \"DZA\", \"Year\": 1991, \"Deaths (per 100,000 people)\": 0.0270241757699}, {\"Entity\": \"Algeria\", \"Code\": \"DZA\", \"Year\": 1992, \"Deaths (per 100,000 people)\": 0.0264763860692}, {\"Entity\": \"Algeria\", \"Code\": \"DZA\", \"Year\": 1993, \"Deaths (per 100,000 people)\": 0.0265663697361}, {\"Entity\": \"Algeria\", \"Code\": \"DZA\", \"Year\": 1994, \"Deaths (per 100,000 people)\": 0.0266985408268}, {\"Entity\": \"Algeria\", \"Code\": \"DZA\", \"Year\": 1995, \"Deaths (per 100,000 people)\": 0.0261510540625999}, {\"Entity\": \"Algeria\", \"Code\": \"DZA\", \"Year\": 1996, \"Deaths (per 100,000 people)\": 0.0264645289774}, {\"Entity\": \"Algeria\", \"Code\": \"DZA\", \"Year\": 1997, \"Deaths (per 100,000 people)\": 0.0266571187101}, {\"Entity\": \"Algeria\", \"Code\": \"DZA\", \"Year\": 1998, \"Deaths (per 100,000 people)\": 0.0271477543073}, {\"Entity\": \"Algeria\", \"Code\": \"DZA\", \"Year\": 1999, \"Deaths (per 100,000 people)\": 0.0268171888369}, {\"Entity\": \"Algeria\", \"Code\": \"DZA\", \"Year\": 2000, \"Deaths (per 100,000 people)\": 0.0265302728925}, {\"Entity\": \"Algeria\", \"Code\": \"DZA\", \"Year\": 2001, \"Deaths (per 100,000 people)\": 0.0263752626526}, {\"Entity\": \"Algeria\", \"Code\": \"DZA\", \"Year\": 2002, \"Deaths (per 100,000 people)\": 0.0262904965307}, {\"Entity\": \"Algeria\", \"Code\": \"DZA\", \"Year\": 2003, \"Deaths (per 100,000 people)\": 0.0260661930649999}, {\"Entity\": \"Algeria\", \"Code\": \"DZA\", \"Year\": 2004, \"Deaths (per 100,000 people)\": 0.0257758592529999}, {\"Entity\": \"Algeria\", \"Code\": \"DZA\", \"Year\": 2005, \"Deaths (per 100,000 people)\": 0.0252430980577}, {\"Entity\": \"Algeria\", \"Code\": \"DZA\", \"Year\": 2006, \"Deaths (per 100,000 people)\": 0.0247668358215999}, {\"Entity\": \"Algeria\", \"Code\": \"DZA\", \"Year\": 2007, \"Deaths (per 100,000 people)\": 0.0246758127504}, {\"Entity\": \"Algeria\", \"Code\": \"DZA\", \"Year\": 2008, \"Deaths (per 100,000 people)\": 0.0238742198505}, {\"Entity\": \"Algeria\", \"Code\": \"DZA\", \"Year\": 2009, \"Deaths (per 100,000 people)\": 0.0235125884410999}, {\"Entity\": \"Algeria\", \"Code\": \"DZA\", \"Year\": 2010, \"Deaths (per 100,000 people)\": 0.0226293845359}, {\"Entity\": \"Algeria\", \"Code\": \"DZA\", \"Year\": 2011, \"Deaths (per 100,000 people)\": 0.0223934274113}, {\"Entity\": \"Algeria\", \"Code\": \"DZA\", \"Year\": 2012, \"Deaths (per 100,000 people)\": 0.0224386377053}, {\"Entity\": \"Algeria\", \"Code\": \"DZA\", \"Year\": 2013, \"Deaths (per 100,000 people)\": 0.0216160447441}, {\"Entity\": \"Algeria\", \"Code\": \"DZA\", \"Year\": 2014, \"Deaths (per 100,000 people)\": 0.0217323769915999}, {\"Entity\": \"Algeria\", \"Code\": \"DZA\", \"Year\": 2015, \"Deaths (per 100,000 people)\": 0.0216291231219}, {\"Entity\": \"Algeria\", \"Code\": \"DZA\", \"Year\": 2016, \"Deaths (per 100,000 people)\": 0.0216693699682}, {\"Entity\": \"Angola\", \"Code\": \"AGO\", \"Year\": 1990, \"Deaths (per 100,000 people)\": 18.691206537600003}, {\"Entity\": \"Angola\", \"Code\": \"AGO\", \"Year\": 1991, \"Deaths (per 100,000 people)\": 19.1432106196}, {\"Entity\": \"Angola\", \"Code\": \"AGO\", \"Year\": 1992, \"Deaths (per 100,000 people)\": 19.3231365141}, {\"Entity\": \"Angola\", \"Code\": \"AGO\", \"Year\": 1993, \"Deaths (per 100,000 people)\": 20.1441105152}, {\"Entity\": \"Angola\", \"Code\": \"AGO\", \"Year\": 1994, \"Deaths (per 100,000 people)\": 21.0587903658}, {\"Entity\": \"Angola\", \"Code\": \"AGO\", \"Year\": 1995, \"Deaths (per 100,000 people)\": 22.0475143327}, {\"Entity\": \"Angola\", \"Code\": \"AGO\", \"Year\": 1996, \"Deaths (per 100,000 people)\": 22.8103115262}, {\"Entity\": \"Angola\", \"Code\": \"AGO\", \"Year\": 1997, \"Deaths (per 100,000 people)\": 24.178356514}, {\"Entity\": \"Angola\", \"Code\": \"AGO\", \"Year\": 1998, \"Deaths (per 100,000 people)\": 27.5072359772}, {\"Entity\": \"Angola\", \"Code\": \"AGO\", \"Year\": 1999, \"Deaths (per 100,000 people)\": 29.9265383039}, {\"Entity\": \"Angola\", \"Code\": \"AGO\", \"Year\": 2000, \"Deaths (per 100,000 people)\": 32.045191746200004}, {\"Entity\": \"Angola\", \"Code\": \"AGO\", \"Year\": 2001, \"Deaths (per 100,000 people)\": 36.3891316571}, {\"Entity\": \"Angola\", \"Code\": \"AGO\", \"Year\": 2002, \"Deaths (per 100,000 people)\": 42.2405918605}, {\"Entity\": \"Angola\", \"Code\": \"AGO\", \"Year\": 2003, \"Deaths (per 100,000 people)\": 45.782693201700006}, {\"Entity\": \"Angola\", \"Code\": \"AGO\", \"Year\": 2004, \"Deaths (per 100,000 people)\": 52.34482948390001}, {\"Entity\": \"Angola\", \"Code\": \"AGO\", \"Year\": 2005, \"Deaths (per 100,000 people)\": 54.0792880263}, {\"Entity\": \"Angola\", \"Code\": \"AGO\", \"Year\": 2006, \"Deaths (per 100,000 people)\": 52.1458879381}, {\"Entity\": \"Angola\", \"Code\": \"AGO\", \"Year\": 2007, \"Deaths (per 100,000 people)\": 48.6704136301}, {\"Entity\": \"Angola\", \"Code\": \"AGO\", \"Year\": 2008, \"Deaths (per 100,000 people)\": 42.3261045389}, {\"Entity\": \"Angola\", \"Code\": \"AGO\", \"Year\": 2009, \"Deaths (per 100,000 people)\": 35.9122452045}, {\"Entity\": \"Angola\", \"Code\": \"AGO\", \"Year\": 2010, \"Deaths (per 100,000 people)\": 31.9177779158}, {\"Entity\": \"Angola\", \"Code\": \"AGO\", \"Year\": 2011, \"Deaths (per 100,000 people)\": 28.6342035589}, {\"Entity\": \"Angola\", \"Code\": \"AGO\", \"Year\": 2012, \"Deaths (per 100,000 people)\": 27.5465727394}, {\"Entity\": \"Angola\", \"Code\": \"AGO\", \"Year\": 2013, \"Deaths (per 100,000 people)\": 28.686821890300003}, {\"Entity\": \"Angola\", \"Code\": \"AGO\", \"Year\": 2014, \"Deaths (per 100,000 people)\": 28.3474968449}, {\"Entity\": \"Angola\", \"Code\": \"AGO\", \"Year\": 2015, \"Deaths (per 100,000 people)\": 28.3801208333}, {\"Entity\": \"Angola\", \"Code\": \"AGO\", \"Year\": 2016, \"Deaths (per 100,000 people)\": 27.1486318101}]}}, {\"mode\": \"vega-lite\"});\n",
       "</script>"
      ],
      "text/plain": [
       "alt.LayerChart(...)"
      ]
     },
     "execution_count": 9,
     "metadata": {},
     "output_type": "execute_result"
    }
   ],
   "source": [
    "Country_Compare(['Afghanistan','Algeria','Angola'],'Deaths')"
   ]
  },
  {
   "cell_type": "markdown",
   "metadata": {},
   "source": [
    "### The second visualization\n",
    "\n",
    "The second visualization is used to obtain the n countries with the highest number of deaths or infection rates in a given year. The first parameter is an int input, representing the year we are interested. The second parameter is an int input, meaning the number of countries we want to see. The third parameter is a string, inputing 'Deaths' means that we want to compare malaria deaths, while inpunting 'Incidence' means that we want to compare incidence.\n",
    "\n",
    "The visualization uses an interval selection, which causes the chart to include an interactive brush (shown in grey). The brush selection parameterizes the red guideline, which visualizes the average value within the selected interval."
   ]
  },
  {
   "cell_type": "code",
   "execution_count": 10,
   "metadata": {},
   "outputs": [],
   "source": [
    "def Year_Overview(Year, number, compare_label):\n",
    "    '''\n",
    "    Obtain the n countries with the highest number of deaths or infection rates in a given year.\n",
    "    \n",
    "    Parameter\n",
    "    ---------\n",
    "    Year: int\n",
    "        The year we are interested in.\n",
    "    number: int\n",
    "        The number of countries we want to see.\n",
    "    compare_label: str\n",
    "        The data we want to see, must be either 'Deaths' or 'Incidence'.\n",
    "        \n",
    "    Result \n",
    "    ---------\n",
    "    figure: visualization\n",
    "        The bar chart with interactive behavior which visualizes the average value within the selected interval.\n",
    "    '''\n",
    "    \n",
    "    if compare_label == 'Deaths':\n",
    "        data = malaria_deaths[malaria_deaths['Year'] == Year]\n",
    "        label = 'Deaths (per 100,000 people)'\n",
    "    elif compare_label == 'Incidence':\n",
    "        data = malaria_inc[malaria_inc['Year'] == Year]\n",
    "        label = 'Incidence (per 1,000 population at risk)'\n",
    "    else:\n",
    "        return 'Compare_label is not correct, it should be either \"Deaths\" or \"Incidence\"'\n",
    "    \n",
    "    if data.empty:\n",
    "        return 'No data for the corresponding Year'\n",
    "        \n",
    "    data_sorted = data.sort_values(by = label, ascending = False).head(number)\n",
    "    \n",
    "    brush = alt.selection(type = 'interval', encodings = ['y']) \n",
    "    \n",
    "    bars = alt.Chart(data_sorted).mark_bar().encode(\n",
    "        x = label,\n",
    "        y = alt.Y(field = 'Entity', type = 'nominal', sort = ['x','descending']), \n",
    "        opacity = alt.condition(brush, alt.OpacityValue(1), alt.OpacityValue(0.7)),\n",
    "    ).add_selection(\n",
    "        brush\n",
    "    )\n",
    "    \n",
    "    line = alt.Chart().mark_rule(color='firebrick').encode(\n",
    "        x = f'mean({label}):Q',\n",
    "        size=alt.SizeValue(3)\n",
    "    ).transform_filter(\n",
    "        brush\n",
    "    )\n",
    "    \n",
    "    figure = alt.layer(bars, line, data = data_sorted)\n",
    "    \n",
    "    return figure"
   ]
  },
  {
   "cell_type": "markdown",
   "metadata": {},
   "source": [
    "### Example of the second visualization"
   ]
  },
  {
   "cell_type": "code",
   "execution_count": 11,
   "metadata": {
    "scrolled": false
   },
   "outputs": [
    {
     "data": {
      "text/html": [
       "\n",
       "<div id=\"altair-viz-ca7befbd88d54bca963540110d987c49\"></div>\n",
       "<script type=\"text/javascript\">\n",
       "  (function(spec, embedOpt){\n",
       "    let outputDiv = document.currentScript.previousElementSibling;\n",
       "    if (outputDiv.id !== \"altair-viz-ca7befbd88d54bca963540110d987c49\") {\n",
       "      outputDiv = document.getElementById(\"altair-viz-ca7befbd88d54bca963540110d987c49\");\n",
       "    }\n",
       "    const paths = {\n",
       "      \"vega\": \"https://cdn.jsdelivr.net/npm//vega@5?noext\",\n",
       "      \"vega-lib\": \"https://cdn.jsdelivr.net/npm//vega-lib?noext\",\n",
       "      \"vega-lite\": \"https://cdn.jsdelivr.net/npm//vega-lite@4.8.1?noext\",\n",
       "      \"vega-embed\": \"https://cdn.jsdelivr.net/npm//vega-embed@6?noext\",\n",
       "    };\n",
       "\n",
       "    function loadScript(lib) {\n",
       "      return new Promise(function(resolve, reject) {\n",
       "        var s = document.createElement('script');\n",
       "        s.src = paths[lib];\n",
       "        s.async = true;\n",
       "        s.onload = () => resolve(paths[lib]);\n",
       "        s.onerror = () => reject(`Error loading script: ${paths[lib]}`);\n",
       "        document.getElementsByTagName(\"head\")[0].appendChild(s);\n",
       "      });\n",
       "    }\n",
       "\n",
       "    function showError(err) {\n",
       "      outputDiv.innerHTML = `<div class=\"error\" style=\"color:red;\">${err}</div>`;\n",
       "      throw err;\n",
       "    }\n",
       "\n",
       "    function displayChart(vegaEmbed) {\n",
       "      vegaEmbed(outputDiv, spec, embedOpt)\n",
       "        .catch(err => showError(`Javascript Error: ${err.message}<br>This usually means there's a typo in your chart specification. See the javascript console for the full traceback.`));\n",
       "    }\n",
       "\n",
       "    if(typeof define === \"function\" && define.amd) {\n",
       "      requirejs.config({paths});\n",
       "      require([\"vega-embed\"], displayChart, err => showError(`Error loading script: ${err.message}`));\n",
       "    } else if (typeof vegaEmbed === \"function\") {\n",
       "      displayChart(vegaEmbed);\n",
       "    } else {\n",
       "      loadScript(\"vega\")\n",
       "        .then(() => loadScript(\"vega-lite\"))\n",
       "        .then(() => loadScript(\"vega-embed\"))\n",
       "        .catch(showError)\n",
       "        .then(() => displayChart(vegaEmbed));\n",
       "    }\n",
       "  })({\"config\": {\"view\": {\"continuousWidth\": 400, \"continuousHeight\": 300}}, \"layer\": [{\"mark\": \"bar\", \"encoding\": {\"opacity\": {\"condition\": {\"value\": 1, \"selection\": \"selector002\"}, \"value\": 0.7}, \"x\": {\"type\": \"quantitative\", \"field\": \"Deaths (per 100,000 people)\"}, \"y\": {\"type\": \"nominal\", \"field\": \"Entity\", \"sort\": [\"x\", \"descending\"]}}, \"selection\": {\"selector002\": {\"type\": \"interval\", \"encodings\": [\"y\"]}}}, {\"mark\": {\"type\": \"rule\", \"color\": \"firebrick\"}, \"encoding\": {\"size\": {\"value\": 3}, \"x\": {\"type\": \"quantitative\", \"aggregate\": \"mean\", \"field\": \"Deaths (per 100,000 people)\"}}, \"transform\": [{\"filter\": {\"selection\": \"selector002\"}}]}], \"data\": {\"name\": \"data-b90498e7a9be612b7eb6b3eb1d71a839\"}, \"$schema\": \"https://vega.github.io/schema/vega-lite/v4.8.1.json\", \"datasets\": {\"data-b90498e7a9be612b7eb6b3eb1d71a839\": [{\"Entity\": \"Burkina Faso\", \"Code\": \"BFA\", \"Year\": 2010, \"Deaths (per 100,000 people)\": 179.864739452}, {\"Entity\": \"Sierra Leone\", \"Code\": \"SLE\", \"Year\": 2010, \"Deaths (per 100,000 people)\": 174.054530337}, {\"Entity\": \"Niger\", \"Code\": \"NER\", \"Year\": 2010, \"Deaths (per 100,000 people)\": 159.835761706}, {\"Entity\": \"Cote d'Ivoire\", \"Code\": \"CIV\", \"Year\": 2010, \"Deaths (per 100,000 people)\": 152.849819144}, {\"Entity\": \"Democratic Republic of Congo\", \"Code\": \"COD\", \"Year\": 2010, \"Deaths (per 100,000 people)\": 124.69533038}, {\"Entity\": \"Nigeria\", \"Code\": \"NGA\", \"Year\": 2010, \"Deaths (per 100,000 people)\": 123.22225535}, {\"Entity\": \"Equatorial Guinea\", \"Code\": \"GNQ\", \"Year\": 2010, \"Deaths (per 100,000 people)\": 121.444742639}, {\"Entity\": \"Western Sub-Saharan Africa\", \"Code\": null, \"Year\": 2010, \"Deaths (per 100,000 people)\": 116.191973654}, {\"Entity\": \"Togo\", \"Code\": \"TGO\", \"Year\": 2010, \"Deaths (per 100,000 people)\": 112.719779929}, {\"Entity\": \"Guinea\", \"Code\": \"GIN\", \"Year\": 2010, \"Deaths (per 100,000 people)\": 112.09204834300002}, {\"Entity\": \"Mali\", \"Code\": \"MLI\", \"Year\": 2010, \"Deaths (per 100,000 people)\": 108.017693802}, {\"Entity\": \"Cameroon\", \"Code\": \"CMR\", \"Year\": 2010, \"Deaths (per 100,000 people)\": 106.411809625}, {\"Entity\": \"Uganda\", \"Code\": \"UGA\", \"Year\": 2010, \"Deaths (per 100,000 people)\": 105.840047211}, {\"Entity\": \"Ghana\", \"Code\": \"GHA\", \"Year\": 2010, \"Deaths (per 100,000 people)\": 102.418551398}, {\"Entity\": \"Central Sub-Saharan Africa\", \"Code\": null, \"Year\": 2010, \"Deaths (per 100,000 people)\": 97.9612857049}, {\"Entity\": \"Liberia\", \"Code\": \"LBR\", \"Year\": 2010, \"Deaths (per 100,000 people)\": 91.9070375626}, {\"Entity\": \"Benin\", \"Code\": \"BEN\", \"Year\": 2010, \"Deaths (per 100,000 people)\": 83.3210947806}, {\"Entity\": \"Burundi\", \"Code\": \"BDI\", \"Year\": 2010, \"Deaths (per 100,000 people)\": 82.8238283588}, {\"Entity\": \"Central African Republic\", \"Code\": \"CAF\", \"Year\": 2010, \"Deaths (per 100,000 people)\": 82.7872217906}, {\"Entity\": \"Mozambique\", \"Code\": \"MOZ\", \"Year\": 2010, \"Deaths (per 100,000 people)\": 73.91404849279999}]}}, {\"mode\": \"vega-lite\"});\n",
       "</script>"
      ],
      "text/plain": [
       "alt.LayerChart(...)"
      ]
     },
     "execution_count": 11,
     "metadata": {},
     "output_type": "execute_result"
    }
   ],
   "source": [
    "Year_Overview(2010,20,'Deaths')"
   ]
  },
  {
   "cell_type": "markdown",
   "metadata": {},
   "source": [
    "### The third visualization\n",
    "\n",
    "The third visualization is used to obtain the specified country age group distribution about malaria deaths. The only parameter is a string, representing the country we are interested in.\n",
    "\n",
    "The visualization has interactive legend. We can choose one category of the legend to see specific age group area."
   ]
  },
  {
   "cell_type": "code",
   "execution_count": 12,
   "metadata": {},
   "outputs": [],
   "source": [
    "def Age_Distribution(Country):\n",
    "    '''\n",
    "    Obtain the specified country age group distribution about malaria deaths.\n",
    "    \n",
    "    Parameter\n",
    "    ---------\n",
    "    Country: string\n",
    "        The country we are interested in.\n",
    "        \n",
    "    Result \n",
    "    ---------\n",
    "    figure: visualization\n",
    "        The area chart with interactive legend.\n",
    "    '''\n",
    "\n",
    "    data = malaria_deaths_age[malaria_deaths_age['entity'] == Country]\n",
    "    \n",
    "    if data.empty:\n",
    "        return 'No data for the corresponding county'\n",
    "    \n",
    "    selection = alt.selection_multi(fields=['age_group'], bind='legend')\n",
    "    \n",
    "    figure = alt.Chart(data).mark_area().encode(\n",
    "        x = 'year' , \n",
    "        y = 'sum(deaths)', \n",
    "        color = alt.Color('age_group:N',\n",
    "                  sort=['Under 5', '5-14', '15-49',\n",
    "                        '50-69', '70 or older']\n",
    "                         ),\n",
    "        opacity=alt.condition(selection, alt.value(1), alt.value(0.2))\n",
    ").add_selection(\n",
    "    selection\n",
    ")\n",
    "    \n",
    "    return figure"
   ]
  },
  {
   "cell_type": "markdown",
   "metadata": {},
   "source": [
    "### Example of the third visualization"
   ]
  },
  {
   "cell_type": "code",
   "execution_count": 13,
   "metadata": {},
   "outputs": [
    {
     "data": {
      "text/html": [
       "\n",
       "<div id=\"altair-viz-bdcae7dbca784b6989c6e04e4ea3c8e9\"></div>\n",
       "<script type=\"text/javascript\">\n",
       "  (function(spec, embedOpt){\n",
       "    let outputDiv = document.currentScript.previousElementSibling;\n",
       "    if (outputDiv.id !== \"altair-viz-bdcae7dbca784b6989c6e04e4ea3c8e9\") {\n",
       "      outputDiv = document.getElementById(\"altair-viz-bdcae7dbca784b6989c6e04e4ea3c8e9\");\n",
       "    }\n",
       "    const paths = {\n",
       "      \"vega\": \"https://cdn.jsdelivr.net/npm//vega@5?noext\",\n",
       "      \"vega-lib\": \"https://cdn.jsdelivr.net/npm//vega-lib?noext\",\n",
       "      \"vega-lite\": \"https://cdn.jsdelivr.net/npm//vega-lite@4.8.1?noext\",\n",
       "      \"vega-embed\": \"https://cdn.jsdelivr.net/npm//vega-embed@6?noext\",\n",
       "    };\n",
       "\n",
       "    function loadScript(lib) {\n",
       "      return new Promise(function(resolve, reject) {\n",
       "        var s = document.createElement('script');\n",
       "        s.src = paths[lib];\n",
       "        s.async = true;\n",
       "        s.onload = () => resolve(paths[lib]);\n",
       "        s.onerror = () => reject(`Error loading script: ${paths[lib]}`);\n",
       "        document.getElementsByTagName(\"head\")[0].appendChild(s);\n",
       "      });\n",
       "    }\n",
       "\n",
       "    function showError(err) {\n",
       "      outputDiv.innerHTML = `<div class=\"error\" style=\"color:red;\">${err}</div>`;\n",
       "      throw err;\n",
       "    }\n",
       "\n",
       "    function displayChart(vegaEmbed) {\n",
       "      vegaEmbed(outputDiv, spec, embedOpt)\n",
       "        .catch(err => showError(`Javascript Error: ${err.message}<br>This usually means there's a typo in your chart specification. See the javascript console for the full traceback.`));\n",
       "    }\n",
       "\n",
       "    if(typeof define === \"function\" && define.amd) {\n",
       "      requirejs.config({paths});\n",
       "      require([\"vega-embed\"], displayChart, err => showError(`Error loading script: ${err.message}`));\n",
       "    } else if (typeof vegaEmbed === \"function\") {\n",
       "      displayChart(vegaEmbed);\n",
       "    } else {\n",
       "      loadScript(\"vega\")\n",
       "        .then(() => loadScript(\"vega-lite\"))\n",
       "        .then(() => loadScript(\"vega-embed\"))\n",
       "        .catch(showError)\n",
       "        .then(() => displayChart(vegaEmbed));\n",
       "    }\n",
       "  })({\"config\": {\"view\": {\"continuousWidth\": 400, \"continuousHeight\": 300}}, \"data\": {\"name\": \"data-7b18614435d29b1bd9de25ed3f28c939\"}, \"mark\": \"area\", \"encoding\": {\"color\": {\"type\": \"nominal\", \"field\": \"age_group\", \"sort\": [\"Under 5\", \"5-14\", \"15-49\", \"50-69\", \"70 or older\"]}, \"opacity\": {\"condition\": {\"value\": 1, \"selection\": \"selector003\"}, \"value\": 0.2}, \"x\": {\"type\": \"quantitative\", \"field\": \"year\"}, \"y\": {\"type\": \"quantitative\", \"aggregate\": \"sum\", \"field\": \"deaths\"}}, \"selection\": {\"selector003\": {\"type\": \"multi\", \"fields\": [\"age_group\"], \"bind\": \"legend\"}}, \"$schema\": \"https://vega.github.io/schema/vega-lite/v4.8.1.json\", \"datasets\": {\"data-7b18614435d29b1bd9de25ed3f28c939\": [{\"Unnamed: 0\": 3673, \"entity\": \"Mozambique\", \"code\": \"MOZ\", \"year\": 1990, \"age_group\": \"Under 5\", \"deaths\": 26848.7189525}, {\"Unnamed: 0\": 3674, \"entity\": \"Mozambique\", \"code\": \"MOZ\", \"year\": 1991, \"age_group\": \"Under 5\", \"deaths\": 26791.2371859}, {\"Unnamed: 0\": 3675, \"entity\": \"Mozambique\", \"code\": \"MOZ\", \"year\": 1992, \"age_group\": \"Under 5\", \"deaths\": 27011.8445426}, {\"Unnamed: 0\": 3676, \"entity\": \"Mozambique\", \"code\": \"MOZ\", \"year\": 1993, \"age_group\": \"Under 5\", \"deaths\": 27736.8096367}, {\"Unnamed: 0\": 3677, \"entity\": \"Mozambique\", \"code\": \"MOZ\", \"year\": 1994, \"age_group\": \"Under 5\", \"deaths\": 28178.4071473}, {\"Unnamed: 0\": 3678, \"entity\": \"Mozambique\", \"code\": \"MOZ\", \"year\": 1995, \"age_group\": \"Under 5\", \"deaths\": 28916.5692978}, {\"Unnamed: 0\": 3679, \"entity\": \"Mozambique\", \"code\": \"MOZ\", \"year\": 1996, \"age_group\": \"Under 5\", \"deaths\": 29363.7585261}, {\"Unnamed: 0\": 3680, \"entity\": \"Mozambique\", \"code\": \"MOZ\", \"year\": 1997, \"age_group\": \"Under 5\", \"deaths\": 29473.8634779}, {\"Unnamed: 0\": 3681, \"entity\": \"Mozambique\", \"code\": \"MOZ\", \"year\": 1998, \"age_group\": \"Under 5\", \"deaths\": 30169.4011642}, {\"Unnamed: 0\": 3682, \"entity\": \"Mozambique\", \"code\": \"MOZ\", \"year\": 1999, \"age_group\": \"Under 5\", \"deaths\": 30659.4044168}, {\"Unnamed: 0\": 3683, \"entity\": \"Mozambique\", \"code\": \"MOZ\", \"year\": 2000, \"age_group\": \"Under 5\", \"deaths\": 30282.6955049}, {\"Unnamed: 0\": 3684, \"entity\": \"Mozambique\", \"code\": \"MOZ\", \"year\": 2001, \"age_group\": \"Under 5\", \"deaths\": 30526.3891191}, {\"Unnamed: 0\": 3685, \"entity\": \"Mozambique\", \"code\": \"MOZ\", \"year\": 2002, \"age_group\": \"Under 5\", \"deaths\": 29879.6923838}, {\"Unnamed: 0\": 3686, \"entity\": \"Mozambique\", \"code\": \"MOZ\", \"year\": 2003, \"age_group\": \"Under 5\", \"deaths\": 28781.7256459}, {\"Unnamed: 0\": 3687, \"entity\": \"Mozambique\", \"code\": \"MOZ\", \"year\": 2004, \"age_group\": \"Under 5\", \"deaths\": 27182.5036932}, {\"Unnamed: 0\": 3688, \"entity\": \"Mozambique\", \"code\": \"MOZ\", \"year\": 2005, \"age_group\": \"Under 5\", \"deaths\": 24891.3531536}, {\"Unnamed: 0\": 3689, \"entity\": \"Mozambique\", \"code\": \"MOZ\", \"year\": 2006, \"age_group\": \"Under 5\", \"deaths\": 24649.5520057}, {\"Unnamed: 0\": 3690, \"entity\": \"Mozambique\", \"code\": \"MOZ\", \"year\": 2007, \"age_group\": \"Under 5\", \"deaths\": 22458.3816175}, {\"Unnamed: 0\": 3691, \"entity\": \"Mozambique\", \"code\": \"MOZ\", \"year\": 2008, \"age_group\": \"Under 5\", \"deaths\": 18779.0796857}, {\"Unnamed: 0\": 3692, \"entity\": \"Mozambique\", \"code\": \"MOZ\", \"year\": 2009, \"age_group\": \"Under 5\", \"deaths\": 19003.3042107}, {\"Unnamed: 0\": 3693, \"entity\": \"Mozambique\", \"code\": \"MOZ\", \"year\": 2010, \"age_group\": \"Under 5\", \"deaths\": 18816.370955}, {\"Unnamed: 0\": 3694, \"entity\": \"Mozambique\", \"code\": \"MOZ\", \"year\": 2011, \"age_group\": \"Under 5\", \"deaths\": 18216.0681566}, {\"Unnamed: 0\": 3695, \"entity\": \"Mozambique\", \"code\": \"MOZ\", \"year\": 2012, \"age_group\": \"Under 5\", \"deaths\": 18018.0206025}, {\"Unnamed: 0\": 3696, \"entity\": \"Mozambique\", \"code\": \"MOZ\", \"year\": 2013, \"age_group\": \"Under 5\", \"deaths\": 16652.469507}, {\"Unnamed: 0\": 3697, \"entity\": \"Mozambique\", \"code\": \"MOZ\", \"year\": 2014, \"age_group\": \"Under 5\", \"deaths\": 14832.7050963}, {\"Unnamed: 0\": 3698, \"entity\": \"Mozambique\", \"code\": \"MOZ\", \"year\": 2015, \"age_group\": \"Under 5\", \"deaths\": 13581.807736}, {\"Unnamed: 0\": 3699, \"entity\": \"Mozambique\", \"code\": \"MOZ\", \"year\": 2016, \"age_group\": \"Under 5\", \"deaths\": 13428.8428981}, {\"Unnamed: 0\": 9829, \"entity\": \"Mozambique\", \"code\": \"MOZ\", \"year\": 1990, \"age_group\": \"70 or older\", \"deaths\": 432.337189821}, {\"Unnamed: 0\": 9830, \"entity\": \"Mozambique\", \"code\": \"MOZ\", \"year\": 1991, \"age_group\": \"70 or older\", \"deaths\": 453.1050577}, {\"Unnamed: 0\": 9831, \"entity\": \"Mozambique\", \"code\": \"MOZ\", \"year\": 1992, \"age_group\": \"70 or older\", \"deaths\": 463.691781542}, {\"Unnamed: 0\": 9832, \"entity\": \"Mozambique\", \"code\": \"MOZ\", \"year\": 1993, \"age_group\": \"70 or older\", \"deaths\": 488.01162598}, {\"Unnamed: 0\": 9833, \"entity\": \"Mozambique\", \"code\": \"MOZ\", \"year\": 1994, \"age_group\": \"70 or older\", \"deaths\": 510.083239142}, {\"Unnamed: 0\": 9834, \"entity\": \"Mozambique\", \"code\": \"MOZ\", \"year\": 1995, \"age_group\": \"70 or older\", \"deaths\": 532.376657357}, {\"Unnamed: 0\": 9835, \"entity\": \"Mozambique\", \"code\": \"MOZ\", \"year\": 1996, \"age_group\": \"70 or older\", \"deaths\": 569.163691655}, {\"Unnamed: 0\": 9836, \"entity\": \"Mozambique\", \"code\": \"MOZ\", \"year\": 1997, \"age_group\": \"70 or older\", \"deaths\": 599.233765908}, {\"Unnamed: 0\": 9837, \"entity\": \"Mozambique\", \"code\": \"MOZ\", \"year\": 1998, \"age_group\": \"70 or older\", \"deaths\": 621.269811769}, {\"Unnamed: 0\": 9838, \"entity\": \"Mozambique\", \"code\": \"MOZ\", \"year\": 1999, \"age_group\": \"70 or older\", \"deaths\": 636.817894521}, {\"Unnamed: 0\": 9839, \"entity\": \"Mozambique\", \"code\": \"MOZ\", \"year\": 2000, \"age_group\": \"70 or older\", \"deaths\": 654.183975881}, {\"Unnamed: 0\": 9840, \"entity\": \"Mozambique\", \"code\": \"MOZ\", \"year\": 2001, \"age_group\": \"70 or older\", \"deaths\": 666.931976577}, {\"Unnamed: 0\": 9841, \"entity\": \"Mozambique\", \"code\": \"MOZ\", \"year\": 2002, \"age_group\": \"70 or older\", \"deaths\": 679.861018146}, {\"Unnamed: 0\": 9842, \"entity\": \"Mozambique\", \"code\": \"MOZ\", \"year\": 2003, \"age_group\": \"70 or older\", \"deaths\": 693.667393246}, {\"Unnamed: 0\": 9843, \"entity\": \"Mozambique\", \"code\": \"MOZ\", \"year\": 2004, \"age_group\": \"70 or older\", \"deaths\": 688.880896819}, {\"Unnamed: 0\": 9844, \"entity\": \"Mozambique\", \"code\": \"MOZ\", \"year\": 2005, \"age_group\": \"70 or older\", \"deaths\": 686.853928748}, {\"Unnamed: 0\": 9845, \"entity\": \"Mozambique\", \"code\": \"MOZ\", \"year\": 2006, \"age_group\": \"70 or older\", \"deaths\": 689.257550696}, {\"Unnamed: 0\": 9846, \"entity\": \"Mozambique\", \"code\": \"MOZ\", \"year\": 2007, \"age_group\": \"70 or older\", \"deaths\": 690.204287223}, {\"Unnamed: 0\": 9847, \"entity\": \"Mozambique\", \"code\": \"MOZ\", \"year\": 2008, \"age_group\": \"70 or older\", \"deaths\": 587.011648141}, {\"Unnamed: 0\": 9848, \"entity\": \"Mozambique\", \"code\": \"MOZ\", \"year\": 2009, \"age_group\": \"70 or older\", \"deaths\": 660.629362375}, {\"Unnamed: 0\": 9849, \"entity\": \"Mozambique\", \"code\": \"MOZ\", \"year\": 2010, \"age_group\": \"70 or older\", \"deaths\": 739.214708948}, {\"Unnamed: 0\": 9850, \"entity\": \"Mozambique\", \"code\": \"MOZ\", \"year\": 2011, \"age_group\": \"70 or older\", \"deaths\": 784.812989094}, {\"Unnamed: 0\": 9851, \"entity\": \"Mozambique\", \"code\": \"MOZ\", \"year\": 2012, \"age_group\": \"70 or older\", \"deaths\": 834.025996726}, {\"Unnamed: 0\": 9852, \"entity\": \"Mozambique\", \"code\": \"MOZ\", \"year\": 2013, \"age_group\": \"70 or older\", \"deaths\": 819.131930773}, {\"Unnamed: 0\": 9853, \"entity\": \"Mozambique\", \"code\": \"MOZ\", \"year\": 2014, \"age_group\": \"70 or older\", \"deaths\": 775.960659096}, {\"Unnamed: 0\": 9854, \"entity\": \"Mozambique\", \"code\": \"MOZ\", \"year\": 2015, \"age_group\": \"70 or older\", \"deaths\": 747.181877245}, {\"Unnamed: 0\": 9855, \"entity\": \"Mozambique\", \"code\": \"MOZ\", \"year\": 2016, \"age_group\": \"70 or older\", \"deaths\": 753.456422912}, {\"Unnamed: 0\": 15985, \"entity\": \"Mozambique\", \"code\": \"MOZ\", \"year\": 1990, \"age_group\": \"5-14\", \"deaths\": 2625.57110558}, {\"Unnamed: 0\": 15986, \"entity\": \"Mozambique\", \"code\": \"MOZ\", \"year\": 1991, \"age_group\": \"5-14\", \"deaths\": 2626.02066686}, {\"Unnamed: 0\": 15987, \"entity\": \"Mozambique\", \"code\": \"MOZ\", \"year\": 1992, \"age_group\": \"5-14\", \"deaths\": 2651.79616046}, {\"Unnamed: 0\": 15988, \"entity\": \"Mozambique\", \"code\": \"MOZ\", \"year\": 1993, \"age_group\": \"5-14\", \"deaths\": 2765.90116189}, {\"Unnamed: 0\": 15989, \"entity\": \"Mozambique\", \"code\": \"MOZ\", \"year\": 1994, \"age_group\": \"5-14\", \"deaths\": 2798.72630962}, {\"Unnamed: 0\": 15990, \"entity\": \"Mozambique\", \"code\": \"MOZ\", \"year\": 1995, \"age_group\": \"5-14\", \"deaths\": 2815.10821204}, {\"Unnamed: 0\": 15991, \"entity\": \"Mozambique\", \"code\": \"MOZ\", \"year\": 1996, \"age_group\": \"5-14\", \"deaths\": 2871.62493816}, {\"Unnamed: 0\": 15992, \"entity\": \"Mozambique\", \"code\": \"MOZ\", \"year\": 1997, \"age_group\": \"5-14\", \"deaths\": 2939.47746943}, {\"Unnamed: 0\": 15993, \"entity\": \"Mozambique\", \"code\": \"MOZ\", \"year\": 1998, \"age_group\": \"5-14\", \"deaths\": 2982.50319878}, {\"Unnamed: 0\": 15994, \"entity\": \"Mozambique\", \"code\": \"MOZ\", \"year\": 1999, \"age_group\": \"5-14\", \"deaths\": 3006.90805502}, {\"Unnamed: 0\": 15995, \"entity\": \"Mozambique\", \"code\": \"MOZ\", \"year\": 2000, \"age_group\": \"5-14\", \"deaths\": 2995.66388367}, {\"Unnamed: 0\": 15996, \"entity\": \"Mozambique\", \"code\": \"MOZ\", \"year\": 2001, \"age_group\": \"5-14\", \"deaths\": 2996.66272763}, {\"Unnamed: 0\": 15997, \"entity\": \"Mozambique\", \"code\": \"MOZ\", \"year\": 2002, \"age_group\": \"5-14\", \"deaths\": 3005.16255729}, {\"Unnamed: 0\": 15998, \"entity\": \"Mozambique\", \"code\": \"MOZ\", \"year\": 2003, \"age_group\": \"5-14\", \"deaths\": 2920.48937578}, {\"Unnamed: 0\": 15999, \"entity\": \"Mozambique\", \"code\": \"MOZ\", \"year\": 2004, \"age_group\": \"5-14\", \"deaths\": 2796.03836039}, {\"Unnamed: 0\": 16000, \"entity\": \"Mozambique\", \"code\": \"MOZ\", \"year\": 2005, \"age_group\": \"5-14\", \"deaths\": 2663.38852719}, {\"Unnamed: 0\": 16001, \"entity\": \"Mozambique\", \"code\": \"MOZ\", \"year\": 2006, \"age_group\": \"5-14\", \"deaths\": 2646.70841295}, {\"Unnamed: 0\": 16002, \"entity\": \"Mozambique\", \"code\": \"MOZ\", \"year\": 2007, \"age_group\": \"5-14\", \"deaths\": 2490.88463996}, {\"Unnamed: 0\": 16003, \"entity\": \"Mozambique\", \"code\": \"MOZ\", \"year\": 2008, \"age_group\": \"5-14\", \"deaths\": 2155.05534697}, {\"Unnamed: 0\": 16004, \"entity\": \"Mozambique\", \"code\": \"MOZ\", \"year\": 2009, \"age_group\": \"5-14\", \"deaths\": 2239.40038326}, {\"Unnamed: 0\": 16005, \"entity\": \"Mozambique\", \"code\": \"MOZ\", \"year\": 2010, \"age_group\": \"5-14\", \"deaths\": 2293.27368673}, {\"Unnamed: 0\": 16006, \"entity\": \"Mozambique\", \"code\": \"MOZ\", \"year\": 2011, \"age_group\": \"5-14\", \"deaths\": 2301.48376423}, {\"Unnamed: 0\": 16007, \"entity\": \"Mozambique\", \"code\": \"MOZ\", \"year\": 2012, \"age_group\": \"5-14\", \"deaths\": 2353.81940383}, {\"Unnamed: 0\": 16008, \"entity\": \"Mozambique\", \"code\": \"MOZ\", \"year\": 2013, \"age_group\": \"5-14\", \"deaths\": 2201.18538543}, {\"Unnamed: 0\": 16009, \"entity\": \"Mozambique\", \"code\": \"MOZ\", \"year\": 2014, \"age_group\": \"5-14\", \"deaths\": 2043.77002969}, {\"Unnamed: 0\": 16010, \"entity\": \"Mozambique\", \"code\": \"MOZ\", \"year\": 2015, \"age_group\": \"5-14\", \"deaths\": 1869.44595933}, {\"Unnamed: 0\": 16011, \"entity\": \"Mozambique\", \"code\": \"MOZ\", \"year\": 2016, \"age_group\": \"5-14\", \"deaths\": 1851.19305088}, {\"Unnamed: 0\": 22141, \"entity\": \"Mozambique\", \"code\": \"MOZ\", \"year\": 1990, \"age_group\": \"15-49\", \"deaths\": 1314.72437955}, {\"Unnamed: 0\": 22142, \"entity\": \"Mozambique\", \"code\": \"MOZ\", \"year\": 1991, \"age_group\": \"15-49\", \"deaths\": 1394.73422873}, {\"Unnamed: 0\": 22143, \"entity\": \"Mozambique\", \"code\": \"MOZ\", \"year\": 1992, \"age_group\": \"15-49\", \"deaths\": 1450.39453978}, {\"Unnamed: 0\": 22144, \"entity\": \"Mozambique\", \"code\": \"MOZ\", \"year\": 1993, \"age_group\": \"15-49\", \"deaths\": 1547.61876567}, {\"Unnamed: 0\": 22145, \"entity\": \"Mozambique\", \"code\": \"MOZ\", \"year\": 1994, \"age_group\": \"15-49\", \"deaths\": 1623.31373905}, {\"Unnamed: 0\": 22146, \"entity\": \"Mozambique\", \"code\": \"MOZ\", \"year\": 1995, \"age_group\": \"15-49\", \"deaths\": 1687.04856705}, {\"Unnamed: 0\": 22147, \"entity\": \"Mozambique\", \"code\": \"MOZ\", \"year\": 1996, \"age_group\": \"15-49\", \"deaths\": 1787.75315458}, {\"Unnamed: 0\": 22148, \"entity\": \"Mozambique\", \"code\": \"MOZ\", \"year\": 1997, \"age_group\": \"15-49\", \"deaths\": 1873.98414085}, {\"Unnamed: 0\": 22149, \"entity\": \"Mozambique\", \"code\": \"MOZ\", \"year\": 1998, \"age_group\": \"15-49\", \"deaths\": 1923.15608537}, {\"Unnamed: 0\": 22150, \"entity\": \"Mozambique\", \"code\": \"MOZ\", \"year\": 1999, \"age_group\": \"15-49\", \"deaths\": 1950.14476788}, {\"Unnamed: 0\": 22151, \"entity\": \"Mozambique\", \"code\": \"MOZ\", \"year\": 2000, \"age_group\": \"15-49\", \"deaths\": 1988.90854837}, {\"Unnamed: 0\": 22152, \"entity\": \"Mozambique\", \"code\": \"MOZ\", \"year\": 2001, \"age_group\": \"15-49\", \"deaths\": 1971.1190304}, {\"Unnamed: 0\": 22153, \"entity\": \"Mozambique\", \"code\": \"MOZ\", \"year\": 2002, \"age_group\": \"15-49\", \"deaths\": 1965.93892571}, {\"Unnamed: 0\": 22154, \"entity\": \"Mozambique\", \"code\": \"MOZ\", \"year\": 2003, \"age_group\": \"15-49\", \"deaths\": 1951.71479815}, {\"Unnamed: 0\": 22155, \"entity\": \"Mozambique\", \"code\": \"MOZ\", \"year\": 2004, \"age_group\": \"15-49\", \"deaths\": 1899.62605689}, {\"Unnamed: 0\": 22156, \"entity\": \"Mozambique\", \"code\": \"MOZ\", \"year\": 2005, \"age_group\": \"15-49\", \"deaths\": 1858.43443934}, {\"Unnamed: 0\": 22157, \"entity\": \"Mozambique\", \"code\": \"MOZ\", \"year\": 2006, \"age_group\": \"15-49\", \"deaths\": 1819.74791247}, {\"Unnamed: 0\": 22158, \"entity\": \"Mozambique\", \"code\": \"MOZ\", \"year\": 2007, \"age_group\": \"15-49\", \"deaths\": 1790.53820643}, {\"Unnamed: 0\": 22159, \"entity\": \"Mozambique\", \"code\": \"MOZ\", \"year\": 2008, \"age_group\": \"15-49\", \"deaths\": 1489.93329039}, {\"Unnamed: 0\": 22160, \"entity\": \"Mozambique\", \"code\": \"MOZ\", \"year\": 2009, \"age_group\": \"15-49\", \"deaths\": 1621.31975318}, {\"Unnamed: 0\": 22161, \"entity\": \"Mozambique\", \"code\": \"MOZ\", \"year\": 2010, \"age_group\": \"15-49\", \"deaths\": 1768.01276291}, {\"Unnamed: 0\": 22162, \"entity\": \"Mozambique\", \"code\": \"MOZ\", \"year\": 2011, \"age_group\": \"15-49\", \"deaths\": 1853.37951159}, {\"Unnamed: 0\": 22163, \"entity\": \"Mozambique\", \"code\": \"MOZ\", \"year\": 2012, \"age_group\": \"15-49\", \"deaths\": 1935.56319542}, {\"Unnamed: 0\": 22164, \"entity\": \"Mozambique\", \"code\": \"MOZ\", \"year\": 2013, \"age_group\": \"15-49\", \"deaths\": 1908.12417874}, {\"Unnamed: 0\": 22165, \"entity\": \"Mozambique\", \"code\": \"MOZ\", \"year\": 2014, \"age_group\": \"15-49\", \"deaths\": 1817.59937407}, {\"Unnamed: 0\": 22166, \"entity\": \"Mozambique\", \"code\": \"MOZ\", \"year\": 2015, \"age_group\": \"15-49\", \"deaths\": 1762.37954067}, {\"Unnamed: 0\": 22167, \"entity\": \"Mozambique\", \"code\": \"MOZ\", \"year\": 2016, \"age_group\": \"15-49\", \"deaths\": 1786.37180237}, {\"Unnamed: 0\": 28297, \"entity\": \"Mozambique\", \"code\": \"MOZ\", \"year\": 1990, \"age_group\": \"50-69\", \"deaths\": 747.184103194}, {\"Unnamed: 0\": 28298, \"entity\": \"Mozambique\", \"code\": \"MOZ\", \"year\": 1991, \"age_group\": \"50-69\", \"deaths\": 775.527155561}, {\"Unnamed: 0\": 28299, \"entity\": \"Mozambique\", \"code\": \"MOZ\", \"year\": 1992, \"age_group\": \"50-69\", \"deaths\": 789.446570957}, {\"Unnamed: 0\": 28300, \"entity\": \"Mozambique\", \"code\": \"MOZ\", \"year\": 1993, \"age_group\": \"50-69\", \"deaths\": 826.801169727}, {\"Unnamed: 0\": 28301, \"entity\": \"Mozambique\", \"code\": \"MOZ\", \"year\": 1994, \"age_group\": \"50-69\", \"deaths\": 857.713573875}, {\"Unnamed: 0\": 28302, \"entity\": \"Mozambique\", \"code\": \"MOZ\", \"year\": 1995, \"age_group\": \"50-69\", \"deaths\": 890.39258502}, {\"Unnamed: 0\": 28303, \"entity\": \"Mozambique\", \"code\": \"MOZ\", \"year\": 1996, \"age_group\": \"50-69\", \"deaths\": 943.180752491}, {\"Unnamed: 0\": 28304, \"entity\": \"Mozambique\", \"code\": \"MOZ\", \"year\": 1997, \"age_group\": \"50-69\", \"deaths\": 987.163584232}, {\"Unnamed: 0\": 28305, \"entity\": \"Mozambique\", \"code\": \"MOZ\", \"year\": 1998, \"age_group\": \"50-69\", \"deaths\": 1009.45731484}, {\"Unnamed: 0\": 28306, \"entity\": \"Mozambique\", \"code\": \"MOZ\", \"year\": 1999, \"age_group\": \"50-69\", \"deaths\": 1018.11492334}, {\"Unnamed: 0\": 28307, \"entity\": \"Mozambique\", \"code\": \"MOZ\", \"year\": 2000, \"age_group\": \"50-69\", \"deaths\": 1032.34420357}, {\"Unnamed: 0\": 28308, \"entity\": \"Mozambique\", \"code\": \"MOZ\", \"year\": 2001, \"age_group\": \"50-69\", \"deaths\": 1024.31280968}, {\"Unnamed: 0\": 28309, \"entity\": \"Mozambique\", \"code\": \"MOZ\", \"year\": 2002, \"age_group\": \"50-69\", \"deaths\": 1024.14959993}, {\"Unnamed: 0\": 28310, \"entity\": \"Mozambique\", \"code\": \"MOZ\", \"year\": 2003, \"age_group\": \"50-69\", \"deaths\": 1018.64669112}, {\"Unnamed: 0\": 28311, \"entity\": \"Mozambique\", \"code\": \"MOZ\", \"year\": 2004, \"age_group\": \"50-69\", \"deaths\": 992.35120143}, {\"Unnamed: 0\": 28312, \"entity\": \"Mozambique\", \"code\": \"MOZ\", \"year\": 2005, \"age_group\": \"50-69\", \"deaths\": 975.460807604}, {\"Unnamed: 0\": 28313, \"entity\": \"Mozambique\", \"code\": \"MOZ\", \"year\": 2006, \"age_group\": \"50-69\", \"deaths\": 955.623152495}, {\"Unnamed: 0\": 28314, \"entity\": \"Mozambique\", \"code\": \"MOZ\", \"year\": 2007, \"age_group\": \"50-69\", \"deaths\": 945.819155048}, {\"Unnamed: 0\": 28315, \"entity\": \"Mozambique\", \"code\": \"MOZ\", \"year\": 2008, \"age_group\": \"50-69\", \"deaths\": 789.92395458}, {\"Unnamed: 0\": 28316, \"entity\": \"Mozambique\", \"code\": \"MOZ\", \"year\": 2009, \"age_group\": \"50-69\", \"deaths\": 875.770714018}, {\"Unnamed: 0\": 28317, \"entity\": \"Mozambique\", \"code\": \"MOZ\", \"year\": 2010, \"age_group\": \"50-69\", \"deaths\": 968.622467805}, {\"Unnamed: 0\": 28318, \"entity\": \"Mozambique\", \"code\": \"MOZ\", \"year\": 2011, \"age_group\": \"50-69\", \"deaths\": 1015.41199355}, {\"Unnamed: 0\": 28319, \"entity\": \"Mozambique\", \"code\": \"MOZ\", \"year\": 2012, \"age_group\": \"50-69\", \"deaths\": 1067.2469626}, {\"Unnamed: 0\": 28320, \"entity\": \"Mozambique\", \"code\": \"MOZ\", \"year\": 2013, \"age_group\": \"50-69\", \"deaths\": 1042.1160888}, {\"Unnamed: 0\": 28321, \"entity\": \"Mozambique\", \"code\": \"MOZ\", \"year\": 2014, \"age_group\": \"50-69\", \"deaths\": 982.75129749}, {\"Unnamed: 0\": 28322, \"entity\": \"Mozambique\", \"code\": \"MOZ\", \"year\": 2015, \"age_group\": \"50-69\", \"deaths\": 944.58178101}, {\"Unnamed: 0\": 28323, \"entity\": \"Mozambique\", \"code\": \"MOZ\", \"year\": 2016, \"age_group\": \"50-69\", \"deaths\": 954.029362712}]}}, {\"mode\": \"vega-lite\"});\n",
       "</script>"
      ],
      "text/plain": [
       "alt.Chart(...)"
      ]
     },
     "execution_count": 13,
     "metadata": {},
     "output_type": "execute_result"
    }
   ],
   "source": [
    "Age_Distribution('Mozambique')"
   ]
  },
  {
   "cell_type": "code",
   "execution_count": null,
   "metadata": {},
   "outputs": [],
   "source": []
  }
 ],
 "metadata": {
  "kernelspec": {
   "display_name": "Python 3",
   "language": "python",
   "name": "python3"
  },
  "language_info": {
   "codemirror_mode": {
    "name": "ipython",
    "version": 3
   },
   "file_extension": ".py",
   "mimetype": "text/x-python",
   "name": "python",
   "nbconvert_exporter": "python",
   "pygments_lexer": "ipython3",
   "version": "3.8.3"
  }
 },
 "nbformat": 4,
 "nbformat_minor": 4
}
